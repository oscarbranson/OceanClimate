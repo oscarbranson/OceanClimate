{
 "cells": [
  {
   "cell_type": "markdown",
   "metadata": {},
   "source": [
    "# Getting Started in Python\n",
    "\n",
    "## Before we begin\n",
    "\n",
    "The information below is *far* from exhaustive. There are a plethora of excellent online courses for learning Python.\n",
    "To get you started, I recommend:\n",
    "* [CodeAcademy](https://www.codecademy.com/learn/learn-python) - A free, interactive introduction to the basics of Python.\n",
    "\n",
    "## Let's Begin!\n",
    "Python is a relatively easy-to-use general-purpose programming language. It is designed for simplicity, readability and flexibility.\n",
    "\n",
    "**Basic numerical operations** in Python look like this.\n",
    "Comments (i.e. code that is not run, but is there to annotate what's going on) are preceded by a `#` character."
   ]
  },
  {
   "cell_type": "code",
   "execution_count": 1,
   "metadata": {},
   "outputs": [
    {
     "data": {
      "text/plain": [
       "3"
      ]
     },
     "execution_count": 1,
     "metadata": {},
     "output_type": "execute_result"
    }
   ],
   "source": [
    "# Addition\n",
    "1 + 2"
   ]
  },
  {
   "cell_type": "code",
   "execution_count": 2,
   "metadata": {},
   "outputs": [
    {
     "data": {
      "text/plain": [
       "31"
      ]
     },
     "execution_count": 2,
     "metadata": {},
     "output_type": "execute_result"
    }
   ],
   "source": [
    "# Subtraction\n",
    "53 - 22"
   ]
  },
  {
   "cell_type": "code",
   "execution_count": 3,
   "metadata": {},
   "outputs": [
    {
     "data": {
      "text/plain": [
       "4.0"
      ]
     },
     "execution_count": 3,
     "metadata": {},
     "output_type": "execute_result"
    }
   ],
   "source": [
    "# Division\n",
    "12 / 3"
   ]
  },
  {
   "cell_type": "code",
   "execution_count": 4,
   "metadata": {},
   "outputs": [
    {
     "data": {
      "text/plain": [
       "46.2"
      ]
     },
     "execution_count": 4,
     "metadata": {},
     "output_type": "execute_result"
    }
   ],
   "source": [
    "# Multiplication\n",
    "22 * 2.1"
   ]
  },
  {
   "cell_type": "code",
   "execution_count": 5,
   "metadata": {},
   "outputs": [
    {
     "data": {
      "text/plain": [
       "4"
      ]
     },
     "execution_count": 5,
     "metadata": {},
     "output_type": "execute_result"
    }
   ],
   "source": [
    "# Exponent\n",
    "2**2  # 2 squared, often 2^2 in other languages"
   ]
  },
  {
   "cell_type": "code",
   "execution_count": 6,
   "metadata": {},
   "outputs": [
    {
     "data": {
      "text/plain": [
       "1"
      ]
     },
     "execution_count": 6,
     "metadata": {},
     "output_type": "execute_result"
    }
   ],
   "source": [
    "# Modulus (divide left by right, and return remainder)\n",
    "5 % 2"
   ]
  },
  {
   "cell_type": "markdown",
   "metadata": {},
   "source": [
    "**Variables can be assigned and modified**, like this:"
   ]
  },
  {
   "cell_type": "code",
   "execution_count": 7,
   "metadata": {},
   "outputs": [
    {
     "data": {
      "text/plain": [
       "34.3"
      ]
     },
     "execution_count": 7,
     "metadata": {},
     "output_type": "execute_result"
    }
   ],
   "source": [
    "a = 12\n",
    "b = 22.3\n",
    "a + b"
   ]
  },
  {
   "cell_type": "markdown",
   "metadata": {},
   "source": [
    "And you can deal with **words as well as numbers**:"
   ]
  },
  {
   "cell_type": "code",
   "execution_count": 8,
   "metadata": {},
   "outputs": [
    {
     "data": {
      "text/plain": [
       "'how does this work?'"
      ]
     },
     "execution_count": 8,
     "metadata": {},
     "output_type": "execute_result"
    }
   ],
   "source": [
    "a = 'how does'\n",
    "b = 'this work?'\n",
    "a + ' ' + b"
   ]
  },
  {
   "cell_type": "markdown",
   "metadata": {},
   "source": [
    "The above appears pretty simple, but there's actually a lot of very clever stuff going on behind it.\n",
    "Particularly, the handling of 'types'.\n",
    "\n",
    "Computers handle different types of data in different ways.\n",
    "For example, in languages like C++, you need to specifically tell the computer what type and size each variable will be.\n",
    "In Python (and R and Matlab) you don't need to do this. Every time you run some code, Python checks what 'type' of data it is, and modifies its behaviour appropriately.\n",
    "\n",
    "**Python is a 'dynamically typed language'.** \n",
    "Why should you care? Because you don't have to worry about types, which are a pain.\n",
    "\n",
    "**So what are data types?**\n",
    "Python has four 'primary' and two 'secondary data types:"
   ]
  },
  {
   "cell_type": "code",
   "execution_count": 9,
   "metadata": {},
   "outputs": [
    {
     "data": {
      "text/plain": [
       "int"
      ]
     },
     "execution_count": 9,
     "metadata": {},
     "output_type": "execute_result"
    }
   ],
   "source": [
    "# Integer (int)\n",
    "a = 1\n",
    "type(a)"
   ]
  },
  {
   "cell_type": "code",
   "execution_count": 10,
   "metadata": {},
   "outputs": [
    {
     "data": {
      "text/plain": [
       "float"
      ]
     },
     "execution_count": 10,
     "metadata": {},
     "output_type": "execute_result"
    }
   ],
   "source": [
    "# Floating-point decimal number (float)\n",
    "b = 1.3\n",
    "type(b)"
   ]
  },
  {
   "cell_type": "code",
   "execution_count": 11,
   "metadata": {},
   "outputs": [
    {
     "data": {
      "text/plain": [
       "str"
      ]
     },
     "execution_count": 11,
     "metadata": {},
     "output_type": "execute_result"
    }
   ],
   "source": [
    "# String of characters (str)\n",
    "c = 'blahblahblah'\n",
    "type(c)"
   ]
  },
  {
   "cell_type": "code",
   "execution_count": 12,
   "metadata": {},
   "outputs": [
    {
     "data": {
      "text/plain": [
       "bool"
      ]
     },
     "execution_count": 12,
     "metadata": {},
     "output_type": "execute_result"
    }
   ],
   "source": [
    "# Boolean - True or False (bool)\n",
    "d = True\n",
    "type(d)"
   ]
  },
  {
   "cell_type": "code",
   "execution_count": 13,
   "metadata": {},
   "outputs": [
    {
     "data": {
      "text/plain": [
       "[1, 1.3, 'blahblahblah', True, 'test']"
      ]
     },
     "execution_count": 13,
     "metadata": {},
     "output_type": "execute_result"
    }
   ],
   "source": [
    "# List - an ordered set of any type of data, or a mix of them\n",
    "e = [a, b, c, d, 'test']\n",
    "e"
   ]
  },
  {
   "cell_type": "code",
   "execution_count": 14,
   "metadata": {},
   "outputs": [
    {
     "data": {
      "text/plain": [
       "list"
      ]
     },
     "execution_count": 14,
     "metadata": {},
     "output_type": "execute_result"
    }
   ],
   "source": [
    "type(e)"
   ]
  },
  {
   "cell_type": "code",
   "execution_count": 15,
   "metadata": {},
   "outputs": [
    {
     "data": {
      "text/plain": [
       "1.3"
      ]
     },
     "execution_count": 15,
     "metadata": {},
     "output_type": "execute_result"
    }
   ],
   "source": [
    "# you can access specific elements of a list by 'indexing'\n",
    "e[1]  # returns the second item in the list\n",
    "# Note: the first item in the list always has an index of zero"
   ]
  },
  {
   "cell_type": "code",
   "execution_count": 16,
   "metadata": {},
   "outputs": [
    {
     "data": {
      "text/plain": [
       "{'a': 1,\n",
       " 'b': 1.3,\n",
       " 'c': 'blahblahblah',\n",
       " 'd': True,\n",
       " 'e': [1, 1.3, 'blahblahblah', True, 'test']}"
      ]
     },
     "execution_count": 16,
     "metadata": {},
     "output_type": "execute_result"
    }
   ],
   "source": [
    "# Dictionary - an unordered 'hashtable', which contains key: value pairs.\n",
    "# This is useful for rapidly accessing data associated with a particular label.\n",
    "f = {'a': a,\n",
    "     'b': b,\n",
    "     'c': c,\n",
    "     'd': d,\n",
    "     'e': e}\n",
    "f"
   ]
  },
  {
   "cell_type": "code",
   "execution_count": 17,
   "metadata": {},
   "outputs": [
    {
     "data": {
      "text/plain": [
       "dict"
      ]
     },
     "execution_count": 17,
     "metadata": {},
     "output_type": "execute_result"
    }
   ],
   "source": [
    "type(f)"
   ]
  },
  {
   "cell_type": "code",
   "execution_count": 18,
   "metadata": {},
   "outputs": [
    {
     "data": {
      "text/plain": [
       "'blahblahblah'"
      ]
     },
     "execution_count": 18,
     "metadata": {},
     "output_type": "execute_result"
    }
   ],
   "source": [
    "# to access elements of the list by label\n",
    "f['c']"
   ]
  },
  {
   "cell_type": "markdown",
   "metadata": {},
   "source": [
    "Now you've got different types of data, and can store them as variables, **we can start doing things!**\n",
    "\n",
    "**You can make functions to do things:**"
   ]
  },
  {
   "cell_type": "code",
   "execution_count": 19,
   "metadata": {
    "collapsed": true
   },
   "outputs": [],
   "source": [
    "# declare a function by typing 'def', followed by the function name,\n",
    "# the parameters it takes in parenthesis, and then a colon.\n",
    "# After the colon, everything *indented* is within the function.\n",
    "\n",
    "def my_function(x):\n",
    "    y = x**2 + 3  # this is where the work happens\n",
    "    return y  # this is what the function 'returns' when it's finished"
   ]
  },
  {
   "cell_type": "code",
   "execution_count": 20,
   "metadata": {},
   "outputs": [
    {
     "data": {
      "text/plain": [
       "31.09"
      ]
     },
     "execution_count": 20,
     "metadata": {},
     "output_type": "execute_result"
    }
   ],
   "source": [
    "my_function(5.3)"
   ]
  },
  {
   "cell_type": "markdown",
   "metadata": {},
   "source": [
    "**Space matters in Python**! It takes a bit of getting used to, but it *forces* your code to be more readable, and is generally a Good Idea.\n",
    "\n",
    "**You can also do 'loops':**\n"
   ]
  },
  {
   "cell_type": "code",
   "execution_count": 21,
   "metadata": {},
   "outputs": [
    {
     "name": "stdout",
     "output_type": "stream",
     "text": [
      "1\n",
      "1.3\n",
      "blahblahblah\n",
      "True\n",
      "test\n"
     ]
    }
   ],
   "source": [
    "for i in e:  # remember 'e' is our list from earlier\n",
    "    print(i)  # print 'prints' whatever you give it on the screen - doesn't send it to a printer!"
   ]
  },
  {
   "cell_type": "markdown",
   "metadata": {},
   "source": [
    "**And that's pretty much it!**\n",
    "\n",
    "No. Seriously. There are some extra bells and whistles in there, but that's most of what 'raw' Python can do. \n",
    "\n",
    "## Importing\n",
    "\n",
    "> *If I have seen further, it is by importing from the code of giants*\n",
    ">\n",
    ">         ~ Not Isaac Newton\n",
    "\n",
    "The basic language of python is very 'bare bones' - it's not the 'Batteries Included' experience you get with (e.g.) Matlab. This is by design, because Python is able to do *so much*. A 'batteries included' Python that included all tasks it is use for would be prohibitively huge.\n",
    "\n",
    "Instead, Python is *modular*. That is, there are a [vast array of 'packages'](https://pypi.python.org/pypi) which you can install, and then `import` do accomplish specific tasks. These libraries cover everything from [Monte-Carlo simulation](https://pymc-devs.github.io/pymc/), to [ocean carbon system calculators](https://github.com/oscarbranson/cbsyst) and [tools for controlling robots](https://pypi.python.org/pypi/Pyro-Robotics).\n",
    "\n",
    "Importing works like this:"
   ]
  },
  {
   "cell_type": "code",
   "execution_count": 22,
   "metadata": {},
   "outputs": [
    {
     "name": "stdout",
     "output_type": "stream",
     "text": [
      "The Zen of Python, by Tim Peters\n",
      "\n",
      "Beautiful is better than ugly.\n",
      "Explicit is better than implicit.\n",
      "Simple is better than complex.\n",
      "Complex is better than complicated.\n",
      "Flat is better than nested.\n",
      "Sparse is better than dense.\n",
      "Readability counts.\n",
      "Special cases aren't special enough to break the rules.\n",
      "Although practicality beats purity.\n",
      "Errors should never pass silently.\n",
      "Unless explicitly silenced.\n",
      "In the face of ambiguity, refuse the temptation to guess.\n",
      "There should be one-- and preferably only one --obvious way to do it.\n",
      "Although that way may not be obvious at first unless you're Dutch.\n",
      "Now is better than never.\n",
      "Although never is often better than *right* now.\n",
      "If the implementation is hard to explain, it's a bad idea.\n",
      "If the implementation is easy to explain, it may be a good idea.\n",
      "Namespaces are one honking great idea -- let's do more of those!\n"
     ]
    }
   ],
   "source": [
    "import this"
   ]
  },
  {
   "cell_type": "markdown",
   "metadata": {},
   "source": [
    "In the example above, `this` is a built in module which displays 'The Zen of Python', describing the core principles of coding in Python. Bits of it are also quite relevant outside Python.\n",
    "\n",
    "**Most of what you do in Python will depend on packages.**\n",
    "\n",
    "Some useful ones:\n",
    "* numpy: array arithmetic and manipulation\n",
    "* matplotlib: for plotting. Similar syntax to Matlab.\n",
    "* pandas: advanced 'Data Frames' (think spreadsheets) for real-world data.\n",
    "* scipy: a wide range of scientifically useful functions\n",
    "* statsmodels: statistics in Python\n",
    "* scikit-learn: machine learning\n",
    "* scikit-image: image maniupulation and processing.\n",
    "* PyMC: Monte-Carlo simulation\n",
    "\n",
    "and many more..."
   ]
  },
  {
   "cell_type": "markdown",
   "metadata": {},
   "source": [
    "### Example: Making a plot\n",
    "\n",
    "First, import some modules.\n",
    "You'll notice some subtelties in how the importing happens here.\n",
    "This relates to 'Namespaces' (`Namespaces are one honking great idea -- let's do more of those!`).\n",
    "\n",
    "#### Aside: Namspaces\n",
    "A 'namespace' refers to where a variable is stored - i.e. if you assign a variable called 'a', the name 'a' and the value associated is stored in the current 'namespace'. If you make a second variable also called 'a', it overwrites the original 'a'. \n",
    "\n",
    "When you import a package, it has a whole load of functions included in it - what if one of the functions you're importing has the same name as a variable or function you've already created? Which remains, and which goes?! This is where 'namespaces' come in. When you import a package, its contents aren't added to your 'working' namespace - only the name of the package is. You then access the functions of the package using a dot (.)."
   ]
  },
  {
   "cell_type": "code",
   "execution_count": 23,
   "metadata": {
    "collapsed": true
   },
   "outputs": [],
   "source": [
    "import numpy"
   ]
  },
  {
   "cell_type": "code",
   "execution_count": 24,
   "metadata": {},
   "outputs": [
    {
     "data": {
      "text/plain": [
       "array([ 4.12945574,  4.25557154,  6.14463039,  1.17845191,  6.45906151,\n",
       "        6.08995695,  8.0080278 ,  5.53095828,  0.01248455,  9.1461877 ])"
      ]
     },
     "execution_count": 24,
     "metadata": {},
     "output_type": "execute_result"
    }
   ],
   "source": [
    "# generate 10 random, normally distributed numbers with a mean of 5 and a standard deviation of 2\n",
    "numpy.random.normal(loc=5, scale=2, size=10)\n",
    "\n",
    "# notice how I have to write numpy first, to access the properties within in.\n",
    "# In this case, there are actually *two* levels of 'namespaces' here - we first access the\n",
    "# 'random' namespace within 'numpy', then use the 'normal' function within 'random'."
   ]
  },
  {
   "cell_type": "code",
   "execution_count": 25,
   "metadata": {
    "collapsed": true
   },
   "outputs": [],
   "source": [
    "# For convenience, you can rename your imports:\n",
    "import numpy as np"
   ]
  },
  {
   "cell_type": "code",
   "execution_count": 26,
   "metadata": {},
   "outputs": [
    {
     "data": {
      "text/plain": [
       "array([ 4.80924801,  1.02997481,  7.77266659,  8.95275987,  7.27953038,\n",
       "        1.69027332, -0.49210878,  4.55017201,  9.62703623,  5.84975491])"
      ]
     },
     "execution_count": 26,
     "metadata": {},
     "output_type": "execute_result"
    }
   ],
   "source": [
    "# this is equivalent to the above\n",
    "np.random.normal(loc=5, scale=2, size=10)"
   ]
  },
  {
   "cell_type": "code",
   "execution_count": 27,
   "metadata": {
    "collapsed": true
   },
   "outputs": [],
   "source": [
    "# import plotting library\n",
    "import matplotlib.pyplot as plt\n",
    "# command to tell the notebook to display plots 'inline' in the browser\n",
    "%matplotlib inline"
   ]
  },
  {
   "cell_type": "markdown",
   "metadata": {},
   "source": [
    "**Make some data to plot:**"
   ]
  },
  {
   "cell_type": "code",
   "execution_count": 28,
   "metadata": {
    "collapsed": true
   },
   "outputs": [],
   "source": [
    "x = np.linspace(0, 100, 500)  # generate 500 linearly spaced values between 0 and 100"
   ]
  },
  {
   "cell_type": "code",
   "execution_count": 29,
   "metadata": {
    "collapsed": true
   },
   "outputs": [],
   "source": [
    "y = my_function(x)  # function we created earlier!"
   ]
  },
  {
   "cell_type": "code",
   "execution_count": 30,
   "metadata": {},
   "outputs": [
    {
     "data": {
      "text/plain": [
       "<matplotlib.text.Text at 0x7f67fea0bb38>"
      ]
     },
     "execution_count": 30,
     "metadata": {},
     "output_type": "execute_result"
    },
    {
     "data": {
      "image/png": "[encoded data removed]",
      "text/plain": [
       "<matplotlib.figure.Figure at 0x7f6800d259e8>"
      ]
     },
     "metadata": {},
     "output_type": "display_data"
    }
   ],
   "source": [
    "plt.plot(x, y)\n",
    "plt.xlabel('x')\n",
    "plt.ylabel('y')\n",
    "plt.title('My Function')"
   ]
  },
  {
   "cell_type": "markdown",
   "metadata": {},
   "source": [
    "### And that's all for now!\n",
    "\n",
    "Pretty much everything you'll do in Python is some variation of the above, combined with specific functions of specific packages."
   ]
  }
 ],
 "metadata": {
  "kernelspec": {
   "display_name": "Python 3",
   "language": "python",
   "name": "python3"
  },
  "language_info": {
   "codemirror_mode": {
    "name": "ipython",
    "version": 3
   },
   "file_extension": ".py",
   "mimetype": "text/x-python",
   "name": "python",
   "nbconvert_exporter": "python",
   "pygments_lexer": "ipython3",
   "version": "3.6.1"
  }
 },
 "nbformat": 4,
 "nbformat_minor": 2
}
